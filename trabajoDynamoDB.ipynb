{
 "cells": [
  {
   "cell_type": "markdown",
   "metadata": {},
   "source": [
    "### Conexion con aws"
   ]
  },
  {
   "cell_type": "code",
   "execution_count": 4,
   "metadata": {},
   "outputs": [
    {
     "name": "stdout",
     "output_type": "stream",
     "text": [
      "Tablas en DynamoDB:\n"
     ]
    }
   ],
   "source": [
    "import boto3\n",
    "\n",
    "# Crear cliente de DynamoDB\n",
    "dynamodb_client = boto3.client('dynamodb', region_name='us-east-1')\n",
    "\n",
    "# Listar tablas\n",
    "try:\n",
    "    response = dynamodb_client.list_tables()\n",
    "    tablas = response.get('TableNames', [])\n",
    "    print(\"Tablas en DynamoDB:\")\n",
    "    for tabla in tablas:\n",
    "        print(f\"- {tabla}\")\n",
    "except Exception as e:\n",
    "    print(\"Error al listar tablas:\", str(e))"
   ]
  },
  {
   "cell_type": "markdown",
   "metadata": {},
   "source": [
    "### 1 -Crear al menos 3 tablas con dos atributos cada una"
   ]
  },
  {
   "cell_type": "code",
   "execution_count": 9,
   "metadata": {},
   "outputs": [
    {
     "name": "stdout",
     "output_type": "stream",
     "text": [
      "Tablas creadas exitosamente.\n"
     ]
    }
   ],
   "source": [
    "# Crear tablas en DynamoDB\n",
    "try:\n",
    "    # Tabla 1\n",
    "    dynamodb_client.create_table(\n",
    "        TableName='Tabla1',\n",
    "        KeySchema=[\n",
    "            {'AttributeName': 'Nombre', 'KeyType': 'HASH'},  # Partition key\n",
    "            {'AttributeName': 'Apellido', 'KeyType': 'RANGE'}  # Sort key\n",
    "        ],\n",
    "        AttributeDefinitions=[\n",
    "            {'AttributeName': 'Nombre', 'AttributeType': 'S'},\n",
    "            {'AttributeName': 'Apellido', 'AttributeType': 'S'}\n",
    "            \n",
    "        ],\n",
    "        ProvisionedThroughput={\n",
    "            'ReadCapacityUnits': 5,\n",
    "            'WriteCapacityUnits': 5\n",
    "        }\n",
    "    )\n",
    "\n",
    "    # Tabla 2\n",
    "    dynamodb_client.create_table(\n",
    "        TableName='Tabla2',\n",
    "        KeySchema=[\n",
    "            {'AttributeName': 'Nombre', 'KeyType': 'HASH'},  # Partition key\n",
    "            {'AttributeName': 'Formacion', 'KeyType': 'RANGE'}  # Sort key\n",
    "        ],\n",
    "        AttributeDefinitions=[\n",
    "            {'AttributeName': 'Nombre', 'AttributeType': 'S'},\n",
    "            {'AttributeName': 'Formacion', 'AttributeType': 'S'}\n",
    "        ],\n",
    "        ProvisionedThroughput={\n",
    "            'ReadCapacityUnits': 5,\n",
    "            'WriteCapacityUnits': 5\n",
    "        }\n",
    "    )\n",
    "\n",
    "    # Tabla 3\n",
    "    dynamodb_client.create_table(\n",
    "        TableName='Tabla3',\n",
    "        KeySchema=[\n",
    "            {'AttributeName': 'Nombre', 'KeyType': 'HASH'},  # Partition key\n",
    "            {'AttributeName': 'Profesion', 'KeyType': 'RANGE'}  # Sort key\n",
    "        ],\n",
    "        AttributeDefinitions=[\n",
    "            {'AttributeName': 'Nombre', 'AttributeType': 'S'},\n",
    "            {'AttributeName': 'Profesion', 'AttributeType': 'S'}\n",
    "\n",
    "        ],\n",
    "        ProvisionedThroughput={\n",
    "            'ReadCapacityUnits': 5,\n",
    "            'WriteCapacityUnits': 5\n",
    "        }\n",
    "    )\n",
    "\n",
    "    print(\"Tablas creadas exitosamente.\")\n",
    "except Exception as e:\n",
    "    print(\"Error al crear tablas:\", str(e))"
   ]
  },
  {
   "cell_type": "markdown",
   "metadata": {},
   "source": [
    "### 2 - Crear tres registros"
   ]
  },
  {
   "cell_type": "code",
   "execution_count": 20,
   "metadata": {},
   "outputs": [
    {
     "name": "stdout",
     "output_type": "stream",
     "text": [
      "Registros creados exitosamente.\n"
     ]
    }
   ],
   "source": [
    "# Crear registros en las tablas\n",
    "try:\n",
    "    # Registro en Tabla1\n",
    "    dynamodb_client.put_item(\n",
    "        TableName='Tabla1',\n",
    "        Item={\n",
    "            'Nombre': {'S': 'Juan'},\n",
    "            'Apellido': {'S': 'Perez'},\n",
    "            'Edad': {'N': '17'}\n",
    "        }\n",
    "    )\n",
    "    dynamodb_client.put_item(\n",
    "        TableName='Tabla1',\n",
    "        Item={\n",
    "            'Nombre': {'S': 'Carlos'},\n",
    "            'Apellido': {'S': 'Gomez'},\n",
    "            'Edad': {'N': '22'}\n",
    "        }\n",
    "    )\n",
    "\n",
    "    # Registro en Tabla2\n",
    "    dynamodb_client.put_item(\n",
    "        TableName='Tabla2',\n",
    "        Item={\n",
    "            'Nombre': {'S': 'Ana'},\n",
    "            'Formacion': {'S': 'Ingenieria'},\n",
    "            'Edad': {'N': '28'}\n",
    "        }\n",
    "    )\n",
    "    dynamodb_client.put_item(\n",
    "        TableName='Tabla2',\n",
    "        Item={\n",
    "            'Nombre': {'S': 'Pedro'},\n",
    "            'Formacion': {'S': 'Farmaceutico'},\n",
    "            'Edad': {'N': '37'}\n",
    "        }\n",
    "    )\n",
    "\n",
    "    # Registro en Tabla3\n",
    "    dynamodb_client.put_item(\n",
    "        TableName='Tabla3',\n",
    "        Item={\n",
    "            'Nombre': {'S': 'Luis'},\n",
    "            'Profesion': {'S': 'Medico'},\n",
    "            'Edad': {'N': '48'}\n",
    "        }\n",
    "    )\n",
    "    dynamodb_client.put_item(\n",
    "        TableName='Tabla3',\n",
    "        Item={\n",
    "            'Nombre': {'S': 'Marcos'},\n",
    "            'Profesion': {'S': 'Abogado'},\n",
    "            'Edad': {'N': '57'}\n",
    "        }\n",
    "    )\n",
    "\n",
    "    print(\"Registros creados exitosamente.\")\n",
    "except Exception as e:\n",
    "    print(\"Error al crear registros:\", str(e))"
   ]
  },
  {
   "cell_type": "markdown",
   "metadata": {},
   "source": [
    "### 3 - Obtener un registro de cada tabla"
   ]
  },
  {
   "cell_type": "code",
   "execution_count": 29,
   "metadata": {},
   "outputs": [
    {
     "name": "stdout",
     "output_type": "stream",
     "text": [
      "Tabla: Tabla1, Registro: {'Nombre': {'S': 'Carlos'}, 'Edad': {'N': '22'}, 'Apellido': {'S': 'Gomez'}}\n",
      "Tabla: Tabla2, Registro: None\n",
      "Tabla: Tabla3, Registro: None\n"
     ]
    }
   ],
   "source": [
    "def obtener_un_registro_por_tabla():\n",
    "    \"\"\"\n",
    "    Lista todas las tablas disponibles\n",
    "    y recupera un único registro de cada tabla (si existe).\n",
    "\n",
    "    Retorna:\n",
    "        - Un diccionario donde las claves son los nombres de las tablas \n",
    "          y los valores son los primeros registros encontrados.\n",
    "    \"\"\"\n",
    "    # Obtener lista de tablas\n",
    "    response = dynamodb_client.list_tables()\n",
    "    tablas = response.get('TableNames', [])\n",
    "\n",
    "    resultados = {}\n",
    "\n",
    "    for tabla in tablas:\n",
    "        # Obtener un único registro de la tabla\n",
    "        response = dynamodb_client.scan(TableName=tabla, Limit=1)\n",
    "\n",
    "        # Extraer el primer ítem si existe\n",
    "        items = response.get('Items', [])\n",
    "        if items:\n",
    "            resultados[tabla] = items[0]\n",
    "        else:\n",
    "            resultados[tabla] = None  # Si la tabla está vacía\n",
    "\n",
    "    return resultados\n",
    "\n",
    "# Ejecutar la función y mostrar los resultados\n",
    "if __name__ == \"__main__\":\n",
    "    registros = obtener_un_registro_por_tabla()\n",
    "    for tabla, registro in registros.items():\n",
    "        print(f\"Tabla: {tabla}, Registro: {registro}\")"
   ]
  },
  {
   "cell_type": "markdown",
   "metadata": {},
   "source": [
    "#### 4 - Actualizar un registro de cada tabla"
   ]
  },
  {
   "cell_type": "code",
   "execution_count": 30,
   "metadata": {},
   "outputs": [
    {
     "ename": "KeyboardInterrupt",
     "evalue": "",
     "output_type": "error",
     "traceback": [
      "\u001b[0;31m---------------------------------------------------------------------------\u001b[0m",
      "\u001b[0;31mKeyboardInterrupt\u001b[0m                         Traceback (most recent call last)",
      "Cell \u001b[0;32mIn[30], line 38\u001b[0m\n\u001b[1;32m     35\u001b[0m \u001b[38;5;66;03m# Actualizar los registros en las tablas\u001b[39;00m\n\u001b[1;32m     36\u001b[0m \u001b[38;5;28;01mif\u001b[39;00m \u001b[38;5;18m__name__\u001b[39m \u001b[38;5;241m==\u001b[39m \u001b[38;5;124m\"\u001b[39m\u001b[38;5;124m__main__\u001b[39m\u001b[38;5;124m\"\u001b[39m:\n\u001b[1;32m     37\u001b[0m     \u001b[38;5;66;03m# Actualizar la Edad de los registros\u001b[39;00m\n\u001b[0;32m---> 38\u001b[0m     \u001b[43mactualizar_edad\u001b[49m\u001b[43m(\u001b[49m\u001b[38;5;124;43m'\u001b[39;49m\u001b[38;5;124;43mTabla1\u001b[39;49m\u001b[38;5;124;43m'\u001b[39;49m\u001b[43m,\u001b[49m\u001b[43m \u001b[49m\u001b[38;5;124;43m'\u001b[39;49m\u001b[38;5;124;43mJuan\u001b[39;49m\u001b[38;5;124;43m'\u001b[39;49m\u001b[43m,\u001b[49m\u001b[43m \u001b[49m\u001b[38;5;124;43m'\u001b[39;49m\u001b[38;5;124;43mPerez\u001b[39;49m\u001b[38;5;124;43m'\u001b[39;49m\u001b[43m,\u001b[49m\u001b[43m \u001b[49m\u001b[38;5;241;43m23\u001b[39;49m\u001b[43m)\u001b[49m  \u001b[38;5;66;03m# Cambiar Edad de Juan en Tabla1 a 23\u001b[39;00m\n\u001b[1;32m     39\u001b[0m     actualizar_edad(\u001b[38;5;124m'\u001b[39m\u001b[38;5;124mTabla2\u001b[39m\u001b[38;5;124m'\u001b[39m, \u001b[38;5;124m'\u001b[39m\u001b[38;5;124mAna\u001b[39m\u001b[38;5;124m'\u001b[39m, \u001b[38;5;124m'\u001b[39m\u001b[38;5;124mIngenieria\u001b[39m\u001b[38;5;124m'\u001b[39m, \u001b[38;5;241m33\u001b[39m)   \u001b[38;5;66;03m# Cambiar Edad de Ana en Tabla2 a 33\u001b[39;00m\n\u001b[1;32m     40\u001b[0m     actualizar_edad(\u001b[38;5;124m'\u001b[39m\u001b[38;5;124mTabla3\u001b[39m\u001b[38;5;124m'\u001b[39m, \u001b[38;5;124m'\u001b[39m\u001b[38;5;124mLuis\u001b[39m\u001b[38;5;124m'\u001b[39m, \u001b[38;5;124m'\u001b[39m\u001b[38;5;124mMedico\u001b[39m\u001b[38;5;124m'\u001b[39m, \u001b[38;5;241m64\u001b[39m)  \u001b[38;5;66;03m# Cambiar Edad de Luis en Tabla3 a 64\u001b[39;00m\n",
      "Cell \u001b[0;32mIn[30], line 19\u001b[0m, in \u001b[0;36mactualizar_edad\u001b[0;34m(tabla_nombre, nombre_usuario, clave_ordenacion, nueva_edad)\u001b[0m\n\u001b[1;32m     16\u001b[0m     sort_key \u001b[38;5;241m=\u001b[39m \u001b[38;5;124m'\u001b[39m\u001b[38;5;124mProfesion\u001b[39m\u001b[38;5;124m'\u001b[39m\n\u001b[1;32m     18\u001b[0m \u001b[38;5;66;03m# Ejecutar la operación de actualización\u001b[39;00m\n\u001b[0;32m---> 19\u001b[0m response \u001b[38;5;241m=\u001b[39m \u001b[43mtabla\u001b[49m\u001b[38;5;241;43m.\u001b[39;49m\u001b[43mupdate_item\u001b[49m\u001b[43m(\u001b[49m\n\u001b[1;32m     20\u001b[0m \u001b[43m    \u001b[49m\u001b[43mKey\u001b[49m\u001b[38;5;241;43m=\u001b[39;49m\u001b[43m{\u001b[49m\n\u001b[1;32m     21\u001b[0m \u001b[43m        \u001b[49m\u001b[38;5;124;43m'\u001b[39;49m\u001b[38;5;124;43mNombre\u001b[39;49m\u001b[38;5;124;43m'\u001b[39;49m\u001b[43m:\u001b[49m\u001b[43m \u001b[49m\u001b[43mnombre_usuario\u001b[49m\u001b[43m,\u001b[49m\u001b[43m  \u001b[49m\u001b[38;5;66;43;03m# Clave de partición\u001b[39;49;00m\n\u001b[1;32m     22\u001b[0m \u001b[43m        \u001b[49m\u001b[43msort_key\u001b[49m\u001b[43m:\u001b[49m\u001b[43m \u001b[49m\u001b[43mclave_ordenacion\u001b[49m\u001b[43m  \u001b[49m\u001b[38;5;66;43;03m# Clave de ordenación\u001b[39;49;00m\n\u001b[1;32m     23\u001b[0m \u001b[43m    \u001b[49m\u001b[43m}\u001b[49m\u001b[43m,\u001b[49m\n\u001b[1;32m     24\u001b[0m \u001b[43m    \u001b[49m\u001b[43mUpdateExpression\u001b[49m\u001b[38;5;241;43m=\u001b[39;49m\u001b[38;5;124;43m\"\u001b[39;49m\u001b[38;5;124;43mset Edad = :e\u001b[39;49m\u001b[38;5;124;43m\"\u001b[39;49m\u001b[43m,\u001b[49m\u001b[43m  \u001b[49m\u001b[38;5;66;43;03m# Actualizamos el atributo Edad\u001b[39;49;00m\n\u001b[1;32m     25\u001b[0m \u001b[43m    \u001b[49m\u001b[43mExpressionAttributeValues\u001b[49m\u001b[38;5;241;43m=\u001b[39;49m\u001b[43m{\u001b[49m\n\u001b[1;32m     26\u001b[0m \u001b[43m        \u001b[49m\u001b[38;5;124;43m'\u001b[39;49m\u001b[38;5;124;43m:e\u001b[39;49m\u001b[38;5;124;43m'\u001b[39;49m\u001b[43m:\u001b[49m\u001b[43m \u001b[49m\u001b[43mnueva_edad\u001b[49m\u001b[43m  \u001b[49m\u001b[38;5;66;43;03m# El nuevo valor para Edad\u001b[39;49;00m\n\u001b[1;32m     27\u001b[0m \u001b[43m    \u001b[49m\u001b[43m}\u001b[49m\u001b[43m,\u001b[49m\n\u001b[1;32m     28\u001b[0m \u001b[43m    \u001b[49m\u001b[43mReturnValues\u001b[49m\u001b[38;5;241;43m=\u001b[39;49m\u001b[38;5;124;43m\"\u001b[39;49m\u001b[38;5;124;43mALL_NEW\u001b[39;49m\u001b[38;5;124;43m\"\u001b[39;49m\u001b[43m  \u001b[49m\u001b[38;5;66;43;03m# Devuelve los valores después de la actualización\u001b[39;49;00m\n\u001b[1;32m     29\u001b[0m \u001b[43m\u001b[49m\u001b[43m)\u001b[49m\n\u001b[1;32m     31\u001b[0m \u001b[38;5;66;03m# Mostrar los resultados de la actualización\u001b[39;00m\n\u001b[1;32m     32\u001b[0m \u001b[38;5;28mprint\u001b[39m(\u001b[38;5;124mf\u001b[39m\u001b[38;5;124m\"\u001b[39m\u001b[38;5;124mActualización en \u001b[39m\u001b[38;5;132;01m{\u001b[39;00mtabla_nombre\u001b[38;5;132;01m}\u001b[39;00m\u001b[38;5;124m: \u001b[39m\u001b[38;5;132;01m{\u001b[39;00mresponse[\u001b[38;5;124m'\u001b[39m\u001b[38;5;124mAttributes\u001b[39m\u001b[38;5;124m'\u001b[39m]\u001b[38;5;132;01m}\u001b[39;00m\u001b[38;5;124m\"\u001b[39m)\n",
      "File \u001b[0;32m~/SBD/.venv/lib/python3.12/site-packages/boto3/resources/factory.py:581\u001b[0m, in \u001b[0;36mResourceFactory._create_action.<locals>.do_action\u001b[0;34m(self, *args, **kwargs)\u001b[0m\n\u001b[1;32m    580\u001b[0m \u001b[38;5;28;01mdef\u001b[39;00m\u001b[38;5;250m \u001b[39m\u001b[38;5;21mdo_action\u001b[39m(\u001b[38;5;28mself\u001b[39m, \u001b[38;5;241m*\u001b[39margs, \u001b[38;5;241m*\u001b[39m\u001b[38;5;241m*\u001b[39mkwargs):\n\u001b[0;32m--> 581\u001b[0m     response \u001b[38;5;241m=\u001b[39m \u001b[43maction\u001b[49m\u001b[43m(\u001b[49m\u001b[38;5;28;43mself\u001b[39;49m\u001b[43m,\u001b[49m\u001b[43m \u001b[49m\u001b[38;5;241;43m*\u001b[39;49m\u001b[43margs\u001b[49m\u001b[43m,\u001b[49m\u001b[43m \u001b[49m\u001b[38;5;241;43m*\u001b[39;49m\u001b[38;5;241;43m*\u001b[39;49m\u001b[43mkwargs\u001b[49m\u001b[43m)\u001b[49m\n\u001b[1;32m    583\u001b[0m     \u001b[38;5;28;01mif\u001b[39;00m \u001b[38;5;28mhasattr\u001b[39m(\u001b[38;5;28mself\u001b[39m, \u001b[38;5;124m'\u001b[39m\u001b[38;5;124mload\u001b[39m\u001b[38;5;124m'\u001b[39m):\n\u001b[1;32m    584\u001b[0m         \u001b[38;5;66;03m# Clear cached data. It will be reloaded the next\u001b[39;00m\n\u001b[1;32m    585\u001b[0m         \u001b[38;5;66;03m# time that an attribute is accessed.\u001b[39;00m\n\u001b[1;32m    586\u001b[0m         \u001b[38;5;66;03m# TODO: Make this configurable in the future?\u001b[39;00m\n\u001b[1;32m    587\u001b[0m         \u001b[38;5;28mself\u001b[39m\u001b[38;5;241m.\u001b[39mmeta\u001b[38;5;241m.\u001b[39mdata \u001b[38;5;241m=\u001b[39m \u001b[38;5;28;01mNone\u001b[39;00m\n",
      "File \u001b[0;32m~/SBD/.venv/lib/python3.12/site-packages/boto3/resources/action.py:88\u001b[0m, in \u001b[0;36mServiceAction.__call__\u001b[0;34m(self, parent, *args, **kwargs)\u001b[0m\n\u001b[1;32m     79\u001b[0m params\u001b[38;5;241m.\u001b[39mupdate(kwargs)\n\u001b[1;32m     81\u001b[0m logger\u001b[38;5;241m.\u001b[39mdebug(\n\u001b[1;32m     82\u001b[0m     \u001b[38;5;124m'\u001b[39m\u001b[38;5;124mCalling \u001b[39m\u001b[38;5;132;01m%s\u001b[39;00m\u001b[38;5;124m:\u001b[39m\u001b[38;5;132;01m%s\u001b[39;00m\u001b[38;5;124m with \u001b[39m\u001b[38;5;132;01m%r\u001b[39;00m\u001b[38;5;124m'\u001b[39m,\n\u001b[1;32m     83\u001b[0m     parent\u001b[38;5;241m.\u001b[39mmeta\u001b[38;5;241m.\u001b[39mservice_name,\n\u001b[1;32m     84\u001b[0m     operation_name,\n\u001b[1;32m     85\u001b[0m     params,\n\u001b[1;32m     86\u001b[0m )\n\u001b[0;32m---> 88\u001b[0m response \u001b[38;5;241m=\u001b[39m \u001b[38;5;28;43mgetattr\u001b[39;49m\u001b[43m(\u001b[49m\u001b[43mparent\u001b[49m\u001b[38;5;241;43m.\u001b[39;49m\u001b[43mmeta\u001b[49m\u001b[38;5;241;43m.\u001b[39;49m\u001b[43mclient\u001b[49m\u001b[43m,\u001b[49m\u001b[43m \u001b[49m\u001b[43moperation_name\u001b[49m\u001b[43m)\u001b[49m\u001b[43m(\u001b[49m\u001b[38;5;241;43m*\u001b[39;49m\u001b[43margs\u001b[49m\u001b[43m,\u001b[49m\u001b[43m \u001b[49m\u001b[38;5;241;43m*\u001b[39;49m\u001b[38;5;241;43m*\u001b[39;49m\u001b[43mparams\u001b[49m\u001b[43m)\u001b[49m\n\u001b[1;32m     90\u001b[0m logger\u001b[38;5;241m.\u001b[39mdebug(\u001b[38;5;124m'\u001b[39m\u001b[38;5;124mResponse: \u001b[39m\u001b[38;5;132;01m%r\u001b[39;00m\u001b[38;5;124m'\u001b[39m, response)\n\u001b[1;32m     92\u001b[0m \u001b[38;5;28;01mreturn\u001b[39;00m \u001b[38;5;28mself\u001b[39m\u001b[38;5;241m.\u001b[39m_response_handler(parent, params, response)\n",
      "File \u001b[0;32m~/SBD/.venv/lib/python3.12/site-packages/botocore/client.py:569\u001b[0m, in \u001b[0;36mClientCreator._create_api_method.<locals>._api_call\u001b[0;34m(self, *args, **kwargs)\u001b[0m\n\u001b[1;32m    565\u001b[0m     \u001b[38;5;28;01mraise\u001b[39;00m \u001b[38;5;167;01mTypeError\u001b[39;00m(\n\u001b[1;32m    566\u001b[0m         \u001b[38;5;124mf\u001b[39m\u001b[38;5;124m\"\u001b[39m\u001b[38;5;132;01m{\u001b[39;00mpy_operation_name\u001b[38;5;132;01m}\u001b[39;00m\u001b[38;5;124m() only accepts keyword arguments.\u001b[39m\u001b[38;5;124m\"\u001b[39m\n\u001b[1;32m    567\u001b[0m     )\n\u001b[1;32m    568\u001b[0m \u001b[38;5;66;03m# The \"self\" in this scope is referring to the BaseClient.\u001b[39;00m\n\u001b[0;32m--> 569\u001b[0m \u001b[38;5;28;01mreturn\u001b[39;00m \u001b[38;5;28;43mself\u001b[39;49m\u001b[38;5;241;43m.\u001b[39;49m\u001b[43m_make_api_call\u001b[49m\u001b[43m(\u001b[49m\u001b[43moperation_name\u001b[49m\u001b[43m,\u001b[49m\u001b[43m \u001b[49m\u001b[43mkwargs\u001b[49m\u001b[43m)\u001b[49m\n",
      "File \u001b[0;32m~/SBD/.venv/lib/python3.12/site-packages/botocore/client.py:1005\u001b[0m, in \u001b[0;36mBaseClient._make_api_call\u001b[0;34m(self, operation_name, api_params)\u001b[0m\n\u001b[1;32m   1001\u001b[0m     maybe_compress_request(\n\u001b[1;32m   1002\u001b[0m         \u001b[38;5;28mself\u001b[39m\u001b[38;5;241m.\u001b[39mmeta\u001b[38;5;241m.\u001b[39mconfig, request_dict, operation_model\n\u001b[1;32m   1003\u001b[0m     )\n\u001b[1;32m   1004\u001b[0m     apply_request_checksum(request_dict)\n\u001b[0;32m-> 1005\u001b[0m     http, parsed_response \u001b[38;5;241m=\u001b[39m \u001b[38;5;28;43mself\u001b[39;49m\u001b[38;5;241;43m.\u001b[39;49m\u001b[43m_make_request\u001b[49m\u001b[43m(\u001b[49m\n\u001b[1;32m   1006\u001b[0m \u001b[43m        \u001b[49m\u001b[43moperation_model\u001b[49m\u001b[43m,\u001b[49m\u001b[43m \u001b[49m\u001b[43mrequest_dict\u001b[49m\u001b[43m,\u001b[49m\u001b[43m \u001b[49m\u001b[43mrequest_context\u001b[49m\n\u001b[1;32m   1007\u001b[0m \u001b[43m    \u001b[49m\u001b[43m)\u001b[49m\n\u001b[1;32m   1009\u001b[0m \u001b[38;5;28mself\u001b[39m\u001b[38;5;241m.\u001b[39mmeta\u001b[38;5;241m.\u001b[39mevents\u001b[38;5;241m.\u001b[39memit(\n\u001b[1;32m   1010\u001b[0m     \u001b[38;5;124mf\u001b[39m\u001b[38;5;124m'\u001b[39m\u001b[38;5;124mafter-call.\u001b[39m\u001b[38;5;132;01m{\u001b[39;00mservice_id\u001b[38;5;132;01m}\u001b[39;00m\u001b[38;5;124m.\u001b[39m\u001b[38;5;132;01m{\u001b[39;00moperation_name\u001b[38;5;132;01m}\u001b[39;00m\u001b[38;5;124m'\u001b[39m,\n\u001b[1;32m   1011\u001b[0m     http_response\u001b[38;5;241m=\u001b[39mhttp,\n\u001b[0;32m   (...)\u001b[0m\n\u001b[1;32m   1014\u001b[0m     context\u001b[38;5;241m=\u001b[39mrequest_context,\n\u001b[1;32m   1015\u001b[0m )\n\u001b[1;32m   1017\u001b[0m \u001b[38;5;28;01mif\u001b[39;00m http\u001b[38;5;241m.\u001b[39mstatus_code \u001b[38;5;241m>\u001b[39m\u001b[38;5;241m=\u001b[39m \u001b[38;5;241m300\u001b[39m:\n",
      "File \u001b[0;32m~/SBD/.venv/lib/python3.12/site-packages/botocore/client.py:1029\u001b[0m, in \u001b[0;36mBaseClient._make_request\u001b[0;34m(self, operation_model, request_dict, request_context)\u001b[0m\n\u001b[1;32m   1027\u001b[0m \u001b[38;5;28;01mdef\u001b[39;00m\u001b[38;5;250m \u001b[39m\u001b[38;5;21m_make_request\u001b[39m(\u001b[38;5;28mself\u001b[39m, operation_model, request_dict, request_context):\n\u001b[1;32m   1028\u001b[0m     \u001b[38;5;28;01mtry\u001b[39;00m:\n\u001b[0;32m-> 1029\u001b[0m         \u001b[38;5;28;01mreturn\u001b[39;00m \u001b[38;5;28;43mself\u001b[39;49m\u001b[38;5;241;43m.\u001b[39;49m\u001b[43m_endpoint\u001b[49m\u001b[38;5;241;43m.\u001b[39;49m\u001b[43mmake_request\u001b[49m\u001b[43m(\u001b[49m\u001b[43moperation_model\u001b[49m\u001b[43m,\u001b[49m\u001b[43m \u001b[49m\u001b[43mrequest_dict\u001b[49m\u001b[43m)\u001b[49m\n\u001b[1;32m   1030\u001b[0m     \u001b[38;5;28;01mexcept\u001b[39;00m \u001b[38;5;167;01mException\u001b[39;00m \u001b[38;5;28;01mas\u001b[39;00m e:\n\u001b[1;32m   1031\u001b[0m         \u001b[38;5;28mself\u001b[39m\u001b[38;5;241m.\u001b[39mmeta\u001b[38;5;241m.\u001b[39mevents\u001b[38;5;241m.\u001b[39memit(\n\u001b[1;32m   1032\u001b[0m             \u001b[38;5;124mf\u001b[39m\u001b[38;5;124m'\u001b[39m\u001b[38;5;124mafter-call-error.\u001b[39m\u001b[38;5;132;01m{\u001b[39;00m\u001b[38;5;28mself\u001b[39m\u001b[38;5;241m.\u001b[39m_service_model\u001b[38;5;241m.\u001b[39mservice_id\u001b[38;5;241m.\u001b[39mhyphenize()\u001b[38;5;132;01m}\u001b[39;00m\u001b[38;5;124m.\u001b[39m\u001b[38;5;132;01m{\u001b[39;00moperation_model\u001b[38;5;241m.\u001b[39mname\u001b[38;5;132;01m}\u001b[39;00m\u001b[38;5;124m'\u001b[39m,\n\u001b[1;32m   1033\u001b[0m             exception\u001b[38;5;241m=\u001b[39me,\n\u001b[1;32m   1034\u001b[0m             context\u001b[38;5;241m=\u001b[39mrequest_context,\n\u001b[1;32m   1035\u001b[0m         )\n",
      "File \u001b[0;32m~/SBD/.venv/lib/python3.12/site-packages/botocore/endpoint.py:119\u001b[0m, in \u001b[0;36mEndpoint.make_request\u001b[0;34m(self, operation_model, request_dict)\u001b[0m\n\u001b[1;32m    113\u001b[0m \u001b[38;5;28;01mdef\u001b[39;00m\u001b[38;5;250m \u001b[39m\u001b[38;5;21mmake_request\u001b[39m(\u001b[38;5;28mself\u001b[39m, operation_model, request_dict):\n\u001b[1;32m    114\u001b[0m     logger\u001b[38;5;241m.\u001b[39mdebug(\n\u001b[1;32m    115\u001b[0m         \u001b[38;5;124m\"\u001b[39m\u001b[38;5;124mMaking request for \u001b[39m\u001b[38;5;132;01m%s\u001b[39;00m\u001b[38;5;124m with params: \u001b[39m\u001b[38;5;132;01m%s\u001b[39;00m\u001b[38;5;124m\"\u001b[39m,\n\u001b[1;32m    116\u001b[0m         operation_model,\n\u001b[1;32m    117\u001b[0m         request_dict,\n\u001b[1;32m    118\u001b[0m     )\n\u001b[0;32m--> 119\u001b[0m     \u001b[38;5;28;01mreturn\u001b[39;00m \u001b[38;5;28;43mself\u001b[39;49m\u001b[38;5;241;43m.\u001b[39;49m\u001b[43m_send_request\u001b[49m\u001b[43m(\u001b[49m\u001b[43mrequest_dict\u001b[49m\u001b[43m,\u001b[49m\u001b[43m \u001b[49m\u001b[43moperation_model\u001b[49m\u001b[43m)\u001b[49m\n",
      "File \u001b[0;32m~/SBD/.venv/lib/python3.12/site-packages/botocore/endpoint.py:197\u001b[0m, in \u001b[0;36mEndpoint._send_request\u001b[0;34m(self, request_dict, operation_model)\u001b[0m\n\u001b[1;32m    195\u001b[0m \u001b[38;5;28mself\u001b[39m\u001b[38;5;241m.\u001b[39m_update_retries_context(context, attempts)\n\u001b[1;32m    196\u001b[0m request \u001b[38;5;241m=\u001b[39m \u001b[38;5;28mself\u001b[39m\u001b[38;5;241m.\u001b[39mcreate_request(request_dict, operation_model)\n\u001b[0;32m--> 197\u001b[0m success_response, exception \u001b[38;5;241m=\u001b[39m \u001b[38;5;28;43mself\u001b[39;49m\u001b[38;5;241;43m.\u001b[39;49m\u001b[43m_get_response\u001b[49m\u001b[43m(\u001b[49m\n\u001b[1;32m    198\u001b[0m \u001b[43m    \u001b[49m\u001b[43mrequest\u001b[49m\u001b[43m,\u001b[49m\u001b[43m \u001b[49m\u001b[43moperation_model\u001b[49m\u001b[43m,\u001b[49m\u001b[43m \u001b[49m\u001b[43mcontext\u001b[49m\n\u001b[1;32m    199\u001b[0m \u001b[43m\u001b[49m\u001b[43m)\u001b[49m\n\u001b[1;32m    200\u001b[0m \u001b[38;5;28;01mwhile\u001b[39;00m \u001b[38;5;28mself\u001b[39m\u001b[38;5;241m.\u001b[39m_needs_retry(\n\u001b[1;32m    201\u001b[0m     attempts,\n\u001b[1;32m    202\u001b[0m     operation_model,\n\u001b[0;32m   (...)\u001b[0m\n\u001b[1;32m    205\u001b[0m     exception,\n\u001b[1;32m    206\u001b[0m ):\n\u001b[1;32m    207\u001b[0m     attempts \u001b[38;5;241m+\u001b[39m\u001b[38;5;241m=\u001b[39m \u001b[38;5;241m1\u001b[39m\n",
      "File \u001b[0;32m~/SBD/.venv/lib/python3.12/site-packages/botocore/endpoint.py:239\u001b[0m, in \u001b[0;36mEndpoint._get_response\u001b[0;34m(self, request, operation_model, context)\u001b[0m\n\u001b[1;32m    233\u001b[0m \u001b[38;5;28;01mdef\u001b[39;00m\u001b[38;5;250m \u001b[39m\u001b[38;5;21m_get_response\u001b[39m(\u001b[38;5;28mself\u001b[39m, request, operation_model, context):\n\u001b[1;32m    234\u001b[0m     \u001b[38;5;66;03m# This will return a tuple of (success_response, exception)\u001b[39;00m\n\u001b[1;32m    235\u001b[0m     \u001b[38;5;66;03m# and success_response is itself a tuple of\u001b[39;00m\n\u001b[1;32m    236\u001b[0m     \u001b[38;5;66;03m# (http_response, parsed_dict).\u001b[39;00m\n\u001b[1;32m    237\u001b[0m     \u001b[38;5;66;03m# If an exception occurs then the success_response is None.\u001b[39;00m\n\u001b[1;32m    238\u001b[0m     \u001b[38;5;66;03m# If no exception occurs then exception is None.\u001b[39;00m\n\u001b[0;32m--> 239\u001b[0m     success_response, exception \u001b[38;5;241m=\u001b[39m \u001b[38;5;28;43mself\u001b[39;49m\u001b[38;5;241;43m.\u001b[39;49m\u001b[43m_do_get_response\u001b[49m\u001b[43m(\u001b[49m\n\u001b[1;32m    240\u001b[0m \u001b[43m        \u001b[49m\u001b[43mrequest\u001b[49m\u001b[43m,\u001b[49m\u001b[43m \u001b[49m\u001b[43moperation_model\u001b[49m\u001b[43m,\u001b[49m\u001b[43m \u001b[49m\u001b[43mcontext\u001b[49m\n\u001b[1;32m    241\u001b[0m \u001b[43m    \u001b[49m\u001b[43m)\u001b[49m\n\u001b[1;32m    242\u001b[0m     kwargs_to_emit \u001b[38;5;241m=\u001b[39m {\n\u001b[1;32m    243\u001b[0m         \u001b[38;5;124m'\u001b[39m\u001b[38;5;124mresponse_dict\u001b[39m\u001b[38;5;124m'\u001b[39m: \u001b[38;5;28;01mNone\u001b[39;00m,\n\u001b[1;32m    244\u001b[0m         \u001b[38;5;124m'\u001b[39m\u001b[38;5;124mparsed_response\u001b[39m\u001b[38;5;124m'\u001b[39m: \u001b[38;5;28;01mNone\u001b[39;00m,\n\u001b[1;32m    245\u001b[0m         \u001b[38;5;124m'\u001b[39m\u001b[38;5;124mcontext\u001b[39m\u001b[38;5;124m'\u001b[39m: context,\n\u001b[1;32m    246\u001b[0m         \u001b[38;5;124m'\u001b[39m\u001b[38;5;124mexception\u001b[39m\u001b[38;5;124m'\u001b[39m: exception,\n\u001b[1;32m    247\u001b[0m     }\n\u001b[1;32m    248\u001b[0m     \u001b[38;5;28;01mif\u001b[39;00m success_response \u001b[38;5;129;01mis\u001b[39;00m \u001b[38;5;129;01mnot\u001b[39;00m \u001b[38;5;28;01mNone\u001b[39;00m:\n",
      "File \u001b[0;32m~/SBD/.venv/lib/python3.12/site-packages/botocore/endpoint.py:279\u001b[0m, in \u001b[0;36mEndpoint._do_get_response\u001b[0;34m(self, request, operation_model, context)\u001b[0m\n\u001b[1;32m    277\u001b[0m     http_response \u001b[38;5;241m=\u001b[39m first_non_none_response(responses)\n\u001b[1;32m    278\u001b[0m     \u001b[38;5;28;01mif\u001b[39;00m http_response \u001b[38;5;129;01mis\u001b[39;00m \u001b[38;5;28;01mNone\u001b[39;00m:\n\u001b[0;32m--> 279\u001b[0m         http_response \u001b[38;5;241m=\u001b[39m \u001b[38;5;28;43mself\u001b[39;49m\u001b[38;5;241;43m.\u001b[39;49m\u001b[43m_send\u001b[49m\u001b[43m(\u001b[49m\u001b[43mrequest\u001b[49m\u001b[43m)\u001b[49m\n\u001b[1;32m    280\u001b[0m \u001b[38;5;28;01mexcept\u001b[39;00m HTTPClientError \u001b[38;5;28;01mas\u001b[39;00m e:\n\u001b[1;32m    281\u001b[0m     \u001b[38;5;28;01mreturn\u001b[39;00m (\u001b[38;5;28;01mNone\u001b[39;00m, e)\n",
      "File \u001b[0;32m~/SBD/.venv/lib/python3.12/site-packages/botocore/endpoint.py:383\u001b[0m, in \u001b[0;36mEndpoint._send\u001b[0;34m(self, request)\u001b[0m\n\u001b[1;32m    382\u001b[0m \u001b[38;5;28;01mdef\u001b[39;00m\u001b[38;5;250m \u001b[39m\u001b[38;5;21m_send\u001b[39m(\u001b[38;5;28mself\u001b[39m, request):\n\u001b[0;32m--> 383\u001b[0m     \u001b[38;5;28;01mreturn\u001b[39;00m \u001b[38;5;28;43mself\u001b[39;49m\u001b[38;5;241;43m.\u001b[39;49m\u001b[43mhttp_session\u001b[49m\u001b[38;5;241;43m.\u001b[39;49m\u001b[43msend\u001b[49m\u001b[43m(\u001b[49m\u001b[43mrequest\u001b[49m\u001b[43m)\u001b[49m\n",
      "File \u001b[0;32m~/SBD/.venv/lib/python3.12/site-packages/botocore/httpsession.py:464\u001b[0m, in \u001b[0;36mURLLib3Session.send\u001b[0;34m(self, request)\u001b[0m\n\u001b[1;32m    461\u001b[0m     conn\u001b[38;5;241m.\u001b[39mproxy_headers[\u001b[38;5;124m'\u001b[39m\u001b[38;5;124mhost\u001b[39m\u001b[38;5;124m'\u001b[39m] \u001b[38;5;241m=\u001b[39m host\n\u001b[1;32m    463\u001b[0m request_target \u001b[38;5;241m=\u001b[39m \u001b[38;5;28mself\u001b[39m\u001b[38;5;241m.\u001b[39m_get_request_target(request\u001b[38;5;241m.\u001b[39murl, proxy_url)\n\u001b[0;32m--> 464\u001b[0m urllib_response \u001b[38;5;241m=\u001b[39m \u001b[43mconn\u001b[49m\u001b[38;5;241;43m.\u001b[39;49m\u001b[43murlopen\u001b[49m\u001b[43m(\u001b[49m\n\u001b[1;32m    465\u001b[0m \u001b[43m    \u001b[49m\u001b[43mmethod\u001b[49m\u001b[38;5;241;43m=\u001b[39;49m\u001b[43mrequest\u001b[49m\u001b[38;5;241;43m.\u001b[39;49m\u001b[43mmethod\u001b[49m\u001b[43m,\u001b[49m\n\u001b[1;32m    466\u001b[0m \u001b[43m    \u001b[49m\u001b[43murl\u001b[49m\u001b[38;5;241;43m=\u001b[39;49m\u001b[43mrequest_target\u001b[49m\u001b[43m,\u001b[49m\n\u001b[1;32m    467\u001b[0m \u001b[43m    \u001b[49m\u001b[43mbody\u001b[49m\u001b[38;5;241;43m=\u001b[39;49m\u001b[43mrequest\u001b[49m\u001b[38;5;241;43m.\u001b[39;49m\u001b[43mbody\u001b[49m\u001b[43m,\u001b[49m\n\u001b[1;32m    468\u001b[0m \u001b[43m    \u001b[49m\u001b[43mheaders\u001b[49m\u001b[38;5;241;43m=\u001b[39;49m\u001b[43mrequest\u001b[49m\u001b[38;5;241;43m.\u001b[39;49m\u001b[43mheaders\u001b[49m\u001b[43m,\u001b[49m\n\u001b[1;32m    469\u001b[0m \u001b[43m    \u001b[49m\u001b[43mretries\u001b[49m\u001b[38;5;241;43m=\u001b[39;49m\u001b[43mRetry\u001b[49m\u001b[43m(\u001b[49m\u001b[38;5;28;43;01mFalse\u001b[39;49;00m\u001b[43m)\u001b[49m\u001b[43m,\u001b[49m\n\u001b[1;32m    470\u001b[0m \u001b[43m    \u001b[49m\u001b[43massert_same_host\u001b[49m\u001b[38;5;241;43m=\u001b[39;49m\u001b[38;5;28;43;01mFalse\u001b[39;49;00m\u001b[43m,\u001b[49m\n\u001b[1;32m    471\u001b[0m \u001b[43m    \u001b[49m\u001b[43mpreload_content\u001b[49m\u001b[38;5;241;43m=\u001b[39;49m\u001b[38;5;28;43;01mFalse\u001b[39;49;00m\u001b[43m,\u001b[49m\n\u001b[1;32m    472\u001b[0m \u001b[43m    \u001b[49m\u001b[43mdecode_content\u001b[49m\u001b[38;5;241;43m=\u001b[39;49m\u001b[38;5;28;43;01mFalse\u001b[39;49;00m\u001b[43m,\u001b[49m\n\u001b[1;32m    473\u001b[0m \u001b[43m    \u001b[49m\u001b[43mchunked\u001b[49m\u001b[38;5;241;43m=\u001b[39;49m\u001b[38;5;28;43mself\u001b[39;49m\u001b[38;5;241;43m.\u001b[39;49m\u001b[43m_chunked\u001b[49m\u001b[43m(\u001b[49m\u001b[43mrequest\u001b[49m\u001b[38;5;241;43m.\u001b[39;49m\u001b[43mheaders\u001b[49m\u001b[43m)\u001b[49m\u001b[43m,\u001b[49m\n\u001b[1;32m    474\u001b[0m \u001b[43m\u001b[49m\u001b[43m)\u001b[49m\n\u001b[1;32m    476\u001b[0m http_response \u001b[38;5;241m=\u001b[39m botocore\u001b[38;5;241m.\u001b[39mawsrequest\u001b[38;5;241m.\u001b[39mAWSResponse(\n\u001b[1;32m    477\u001b[0m     request\u001b[38;5;241m.\u001b[39murl,\n\u001b[1;32m    478\u001b[0m     urllib_response\u001b[38;5;241m.\u001b[39mstatus,\n\u001b[1;32m    479\u001b[0m     urllib_response\u001b[38;5;241m.\u001b[39mheaders,\n\u001b[1;32m    480\u001b[0m     urllib_response,\n\u001b[1;32m    481\u001b[0m )\n\u001b[1;32m    483\u001b[0m \u001b[38;5;28;01mif\u001b[39;00m \u001b[38;5;129;01mnot\u001b[39;00m request\u001b[38;5;241m.\u001b[39mstream_output:\n\u001b[1;32m    484\u001b[0m     \u001b[38;5;66;03m# Cause the raw stream to be exhausted immediately. We do it\u001b[39;00m\n\u001b[1;32m    485\u001b[0m     \u001b[38;5;66;03m# this way instead of using preload_content because\u001b[39;00m\n\u001b[1;32m    486\u001b[0m     \u001b[38;5;66;03m# preload_content will never buffer chunked responses\u001b[39;00m\n",
      "File \u001b[0;32m~/SBD/.venv/lib/python3.12/site-packages/urllib3/connectionpool.py:787\u001b[0m, in \u001b[0;36mHTTPConnectionPool.urlopen\u001b[0;34m(self, method, url, body, headers, retries, redirect, assert_same_host, timeout, pool_timeout, release_conn, chunked, body_pos, preload_content, decode_content, **response_kw)\u001b[0m\n\u001b[1;32m    784\u001b[0m response_conn \u001b[38;5;241m=\u001b[39m conn \u001b[38;5;28;01mif\u001b[39;00m \u001b[38;5;129;01mnot\u001b[39;00m release_conn \u001b[38;5;28;01melse\u001b[39;00m \u001b[38;5;28;01mNone\u001b[39;00m\n\u001b[1;32m    786\u001b[0m \u001b[38;5;66;03m# Make the request on the HTTPConnection object\u001b[39;00m\n\u001b[0;32m--> 787\u001b[0m response \u001b[38;5;241m=\u001b[39m \u001b[38;5;28;43mself\u001b[39;49m\u001b[38;5;241;43m.\u001b[39;49m\u001b[43m_make_request\u001b[49m\u001b[43m(\u001b[49m\n\u001b[1;32m    788\u001b[0m \u001b[43m    \u001b[49m\u001b[43mconn\u001b[49m\u001b[43m,\u001b[49m\n\u001b[1;32m    789\u001b[0m \u001b[43m    \u001b[49m\u001b[43mmethod\u001b[49m\u001b[43m,\u001b[49m\n\u001b[1;32m    790\u001b[0m \u001b[43m    \u001b[49m\u001b[43murl\u001b[49m\u001b[43m,\u001b[49m\n\u001b[1;32m    791\u001b[0m \u001b[43m    \u001b[49m\u001b[43mtimeout\u001b[49m\u001b[38;5;241;43m=\u001b[39;49m\u001b[43mtimeout_obj\u001b[49m\u001b[43m,\u001b[49m\n\u001b[1;32m    792\u001b[0m \u001b[43m    \u001b[49m\u001b[43mbody\u001b[49m\u001b[38;5;241;43m=\u001b[39;49m\u001b[43mbody\u001b[49m\u001b[43m,\u001b[49m\n\u001b[1;32m    793\u001b[0m \u001b[43m    \u001b[49m\u001b[43mheaders\u001b[49m\u001b[38;5;241;43m=\u001b[39;49m\u001b[43mheaders\u001b[49m\u001b[43m,\u001b[49m\n\u001b[1;32m    794\u001b[0m \u001b[43m    \u001b[49m\u001b[43mchunked\u001b[49m\u001b[38;5;241;43m=\u001b[39;49m\u001b[43mchunked\u001b[49m\u001b[43m,\u001b[49m\n\u001b[1;32m    795\u001b[0m \u001b[43m    \u001b[49m\u001b[43mretries\u001b[49m\u001b[38;5;241;43m=\u001b[39;49m\u001b[43mretries\u001b[49m\u001b[43m,\u001b[49m\n\u001b[1;32m    796\u001b[0m \u001b[43m    \u001b[49m\u001b[43mresponse_conn\u001b[49m\u001b[38;5;241;43m=\u001b[39;49m\u001b[43mresponse_conn\u001b[49m\u001b[43m,\u001b[49m\n\u001b[1;32m    797\u001b[0m \u001b[43m    \u001b[49m\u001b[43mpreload_content\u001b[49m\u001b[38;5;241;43m=\u001b[39;49m\u001b[43mpreload_content\u001b[49m\u001b[43m,\u001b[49m\n\u001b[1;32m    798\u001b[0m \u001b[43m    \u001b[49m\u001b[43mdecode_content\u001b[49m\u001b[38;5;241;43m=\u001b[39;49m\u001b[43mdecode_content\u001b[49m\u001b[43m,\u001b[49m\n\u001b[1;32m    799\u001b[0m \u001b[43m    \u001b[49m\u001b[38;5;241;43m*\u001b[39;49m\u001b[38;5;241;43m*\u001b[39;49m\u001b[43mresponse_kw\u001b[49m\u001b[43m,\u001b[49m\n\u001b[1;32m    800\u001b[0m \u001b[43m\u001b[49m\u001b[43m)\u001b[49m\n\u001b[1;32m    802\u001b[0m \u001b[38;5;66;03m# Everything went great!\u001b[39;00m\n\u001b[1;32m    803\u001b[0m clean_exit \u001b[38;5;241m=\u001b[39m \u001b[38;5;28;01mTrue\u001b[39;00m\n",
      "File \u001b[0;32m~/SBD/.venv/lib/python3.12/site-packages/urllib3/connectionpool.py:464\u001b[0m, in \u001b[0;36mHTTPConnectionPool._make_request\u001b[0;34m(self, conn, method, url, body, headers, retries, timeout, chunked, response_conn, preload_content, decode_content, enforce_content_length)\u001b[0m\n\u001b[1;32m    461\u001b[0m \u001b[38;5;28;01mtry\u001b[39;00m:\n\u001b[1;32m    462\u001b[0m     \u001b[38;5;66;03m# Trigger any extra validation we need to do.\u001b[39;00m\n\u001b[1;32m    463\u001b[0m     \u001b[38;5;28;01mtry\u001b[39;00m:\n\u001b[0;32m--> 464\u001b[0m         \u001b[38;5;28;43mself\u001b[39;49m\u001b[38;5;241;43m.\u001b[39;49m\u001b[43m_validate_conn\u001b[49m\u001b[43m(\u001b[49m\u001b[43mconn\u001b[49m\u001b[43m)\u001b[49m\n\u001b[1;32m    465\u001b[0m     \u001b[38;5;28;01mexcept\u001b[39;00m (SocketTimeout, BaseSSLError) \u001b[38;5;28;01mas\u001b[39;00m e:\n\u001b[1;32m    466\u001b[0m         \u001b[38;5;28mself\u001b[39m\u001b[38;5;241m.\u001b[39m_raise_timeout(err\u001b[38;5;241m=\u001b[39me, url\u001b[38;5;241m=\u001b[39murl, timeout_value\u001b[38;5;241m=\u001b[39mconn\u001b[38;5;241m.\u001b[39mtimeout)\n",
      "File \u001b[0;32m~/SBD/.venv/lib/python3.12/site-packages/urllib3/connectionpool.py:1093\u001b[0m, in \u001b[0;36mHTTPSConnectionPool._validate_conn\u001b[0;34m(self, conn)\u001b[0m\n\u001b[1;32m   1091\u001b[0m \u001b[38;5;66;03m# Force connect early to allow us to validate the connection.\u001b[39;00m\n\u001b[1;32m   1092\u001b[0m \u001b[38;5;28;01mif\u001b[39;00m conn\u001b[38;5;241m.\u001b[39mis_closed:\n\u001b[0;32m-> 1093\u001b[0m     \u001b[43mconn\u001b[49m\u001b[38;5;241;43m.\u001b[39;49m\u001b[43mconnect\u001b[49m\u001b[43m(\u001b[49m\u001b[43m)\u001b[49m\n\u001b[1;32m   1095\u001b[0m \u001b[38;5;66;03m# TODO revise this, see https://github.com/urllib3/urllib3/issues/2791\u001b[39;00m\n\u001b[1;32m   1096\u001b[0m \u001b[38;5;28;01mif\u001b[39;00m \u001b[38;5;129;01mnot\u001b[39;00m conn\u001b[38;5;241m.\u001b[39mis_verified \u001b[38;5;129;01mand\u001b[39;00m \u001b[38;5;129;01mnot\u001b[39;00m conn\u001b[38;5;241m.\u001b[39mproxy_is_verified:\n",
      "File \u001b[0;32m~/SBD/.venv/lib/python3.12/site-packages/urllib3/connection.py:704\u001b[0m, in \u001b[0;36mHTTPSConnection.connect\u001b[0;34m(self)\u001b[0m\n\u001b[1;32m    702\u001b[0m \u001b[38;5;28;01mtry\u001b[39;00m:\n\u001b[1;32m    703\u001b[0m     sock: socket\u001b[38;5;241m.\u001b[39msocket \u001b[38;5;241m|\u001b[39m ssl\u001b[38;5;241m.\u001b[39mSSLSocket\n\u001b[0;32m--> 704\u001b[0m     \u001b[38;5;28mself\u001b[39m\u001b[38;5;241m.\u001b[39msock \u001b[38;5;241m=\u001b[39m sock \u001b[38;5;241m=\u001b[39m \u001b[38;5;28;43mself\u001b[39;49m\u001b[38;5;241;43m.\u001b[39;49m\u001b[43m_new_conn\u001b[49m\u001b[43m(\u001b[49m\u001b[43m)\u001b[49m\n\u001b[1;32m    705\u001b[0m     server_hostname: \u001b[38;5;28mstr\u001b[39m \u001b[38;5;241m=\u001b[39m \u001b[38;5;28mself\u001b[39m\u001b[38;5;241m.\u001b[39mhost\n\u001b[1;32m    706\u001b[0m     tls_in_tls \u001b[38;5;241m=\u001b[39m \u001b[38;5;28;01mFalse\u001b[39;00m\n",
      "File \u001b[0;32m~/SBD/.venv/lib/python3.12/site-packages/urllib3/connection.py:198\u001b[0m, in \u001b[0;36mHTTPConnection._new_conn\u001b[0;34m(self)\u001b[0m\n\u001b[1;32m    193\u001b[0m \u001b[38;5;250m\u001b[39m\u001b[38;5;124;03m\"\"\"Establish a socket connection and set nodelay settings on it.\u001b[39;00m\n\u001b[1;32m    194\u001b[0m \n\u001b[1;32m    195\u001b[0m \u001b[38;5;124;03m:return: New socket connection.\u001b[39;00m\n\u001b[1;32m    196\u001b[0m \u001b[38;5;124;03m\"\"\"\u001b[39;00m\n\u001b[1;32m    197\u001b[0m \u001b[38;5;28;01mtry\u001b[39;00m:\n\u001b[0;32m--> 198\u001b[0m     sock \u001b[38;5;241m=\u001b[39m \u001b[43mconnection\u001b[49m\u001b[38;5;241;43m.\u001b[39;49m\u001b[43mcreate_connection\u001b[49m\u001b[43m(\u001b[49m\n\u001b[1;32m    199\u001b[0m \u001b[43m        \u001b[49m\u001b[43m(\u001b[49m\u001b[38;5;28;43mself\u001b[39;49m\u001b[38;5;241;43m.\u001b[39;49m\u001b[43m_dns_host\u001b[49m\u001b[43m,\u001b[49m\u001b[43m \u001b[49m\u001b[38;5;28;43mself\u001b[39;49m\u001b[38;5;241;43m.\u001b[39;49m\u001b[43mport\u001b[49m\u001b[43m)\u001b[49m\u001b[43m,\u001b[49m\n\u001b[1;32m    200\u001b[0m \u001b[43m        \u001b[49m\u001b[38;5;28;43mself\u001b[39;49m\u001b[38;5;241;43m.\u001b[39;49m\u001b[43mtimeout\u001b[49m\u001b[43m,\u001b[49m\n\u001b[1;32m    201\u001b[0m \u001b[43m        \u001b[49m\u001b[43msource_address\u001b[49m\u001b[38;5;241;43m=\u001b[39;49m\u001b[38;5;28;43mself\u001b[39;49m\u001b[38;5;241;43m.\u001b[39;49m\u001b[43msource_address\u001b[49m\u001b[43m,\u001b[49m\n\u001b[1;32m    202\u001b[0m \u001b[43m        \u001b[49m\u001b[43msocket_options\u001b[49m\u001b[38;5;241;43m=\u001b[39;49m\u001b[38;5;28;43mself\u001b[39;49m\u001b[38;5;241;43m.\u001b[39;49m\u001b[43msocket_options\u001b[49m\u001b[43m,\u001b[49m\n\u001b[1;32m    203\u001b[0m \u001b[43m    \u001b[49m\u001b[43m)\u001b[49m\n\u001b[1;32m    204\u001b[0m \u001b[38;5;28;01mexcept\u001b[39;00m socket\u001b[38;5;241m.\u001b[39mgaierror \u001b[38;5;28;01mas\u001b[39;00m e:\n\u001b[1;32m    205\u001b[0m     \u001b[38;5;28;01mraise\u001b[39;00m NameResolutionError(\u001b[38;5;28mself\u001b[39m\u001b[38;5;241m.\u001b[39mhost, \u001b[38;5;28mself\u001b[39m, e) \u001b[38;5;28;01mfrom\u001b[39;00m\u001b[38;5;250m \u001b[39m\u001b[38;5;21;01me\u001b[39;00m\n",
      "File \u001b[0;32m~/SBD/.venv/lib/python3.12/site-packages/urllib3/util/connection.py:73\u001b[0m, in \u001b[0;36mcreate_connection\u001b[0;34m(address, timeout, source_address, socket_options)\u001b[0m\n\u001b[1;32m     71\u001b[0m \u001b[38;5;28;01mif\u001b[39;00m source_address:\n\u001b[1;32m     72\u001b[0m     sock\u001b[38;5;241m.\u001b[39mbind(source_address)\n\u001b[0;32m---> 73\u001b[0m \u001b[43msock\u001b[49m\u001b[38;5;241;43m.\u001b[39;49m\u001b[43mconnect\u001b[49m\u001b[43m(\u001b[49m\u001b[43msa\u001b[49m\u001b[43m)\u001b[49m\n\u001b[1;32m     74\u001b[0m \u001b[38;5;66;03m# Break explicitly a reference cycle\u001b[39;00m\n\u001b[1;32m     75\u001b[0m err \u001b[38;5;241m=\u001b[39m \u001b[38;5;28;01mNone\u001b[39;00m\n",
      "\u001b[0;31mKeyboardInterrupt\u001b[0m: "
     ]
    }
   ],
   "source": [
    "# Crear el cliente de DynamoDB\n",
    "dynamodb = boto3.resource('dynamodb')\n",
    "\n",
    "# Función para actualizar el registro de cada tabla\n",
    "def actualizar_edad(tabla_nombre, nombre_usuario, clave_ordenacion, nueva_edad):\n",
    "    try:\n",
    "        # Obtener la referencia de la tabla\n",
    "        tabla = dynamodb.Table(tabla_nombre)\n",
    "\n",
    "        # Determinar la clave de ordenación según el nombre de la tabla\n",
    "        if tabla_nombre == 'Tabla1':\n",
    "            sort_key = 'Apellido'\n",
    "        elif tabla_nombre == 'Tabla2':\n",
    "            sort_key = 'Formacion'\n",
    "        else:\n",
    "            sort_key = 'Profesion'\n",
    "\n",
    "        # Ejecutar la operación de actualización\n",
    "        response = tabla.update_item(\n",
    "            Key={\n",
    "                'Nombre': nombre_usuario,  # Clave de partición\n",
    "                sort_key: clave_ordenacion  # Clave de ordenación\n",
    "            },\n",
    "            UpdateExpression=\"set Edad = :e\",  # Actualizamos el atributo Edad\n",
    "            ExpressionAttributeValues={\n",
    "                ':e': nueva_edad  # El nuevo valor para Edad\n",
    "            },\n",
    "            ReturnValues=\"ALL_NEW\"  # Devuelve los valores después de la actualización\n",
    "        )\n",
    "        \n",
    "        # Mostrar los resultados de la actualización\n",
    "        print(f\"Actualización en {tabla_nombre}: {response['Attributes']}\")\n",
    "    except Exception as e:\n",
    "        print(f\"Error al actualizar en {tabla_nombre}: {e}\")\n",
    "# Actualizar los registros en las tablas\n",
    "if __name__ == \"__main__\":\n",
    "    # Actualizar la Edad de los registros\n",
    "    actualizar_edad('Tabla1', 'Juan', 'Perez', 23)  # Cambiar Edad de Juan en Tabla1 a 23\n",
    "    actualizar_edad('Tabla2', 'Ana', 'Ingenieria', 33)   # Cambiar Edad de Ana en Tabla2 a 33\n",
    "    actualizar_edad('Tabla3', 'Luis', 'Medico', 64)  # Cambiar Edad de Luis en Tabla3 a 64"
   ]
  },
  {
   "cell_type": "markdown",
   "metadata": {},
   "source": [
    "#### 5 - Eliminar un registro de cada tabla"
   ]
  },
  {
   "cell_type": "code",
   "execution_count": 22,
   "metadata": {},
   "outputs": [
    {
     "name": "stdout",
     "output_type": "stream",
     "text": [
      "Registro eliminado en Tabla1: {'ResponseMetadata': {'RequestId': '4LGRRIL23O1BFDGE1LTP5HSK9FVV4KQNSO5AEMVJF66Q9ASUAAJG', 'HTTPStatusCode': 200, 'HTTPHeaders': {'server': 'Server', 'date': 'Sat, 01 Feb 2025 12:26:20 GMT', 'content-type': 'application/x-amz-json-1.0', 'content-length': '2', 'connection': 'keep-alive', 'x-amzn-requestid': '4LGRRIL23O1BFDGE1LTP5HSK9FVV4KQNSO5AEMVJF66Q9ASUAAJG', 'x-amz-crc32': '2745614147'}, 'RetryAttempts': 0}}\n",
      "Registro eliminado en Tabla2: {'ResponseMetadata': {'RequestId': 'NLOEBML3VAVQQREQIKLQII5LK3VV4KQNSO5AEMVJF66Q9ASUAAJG', 'HTTPStatusCode': 200, 'HTTPHeaders': {'server': 'Server', 'date': 'Sat, 01 Feb 2025 12:26:20 GMT', 'content-type': 'application/x-amz-json-1.0', 'content-length': '2', 'connection': 'keep-alive', 'x-amzn-requestid': 'NLOEBML3VAVQQREQIKLQII5LK3VV4KQNSO5AEMVJF66Q9ASUAAJG', 'x-amz-crc32': '2745614147'}, 'RetryAttempts': 0}}\n",
      "Registro eliminado en Tabla3: {'ResponseMetadata': {'RequestId': 'FN0JMTM7C64MM0OTQB4IKF69RBVV4KQNSO5AEMVJF66Q9ASUAAJG', 'HTTPStatusCode': 200, 'HTTPHeaders': {'server': 'Server', 'date': 'Sat, 01 Feb 2025 12:26:20 GMT', 'content-type': 'application/x-amz-json-1.0', 'content-length': '2', 'connection': 'keep-alive', 'x-amzn-requestid': 'FN0JMTM7C64MM0OTQB4IKF69RBVV4KQNSO5AEMVJF66Q9ASUAAJG', 'x-amz-crc32': '2745614147'}, 'RetryAttempts': 0}}\n"
     ]
    }
   ],
   "source": [
    "# Función para eliminar un registro de cada tabla\n",
    "def eliminar_registro(tabla_nombre, nombre_usuario, clave_ordenacion):\n",
    "    try:\n",
    "        # Obtener la referencia de la tabla\n",
    "        tabla = dynamodb.Table(tabla_nombre)\n",
    "\n",
    "        # Determinar la clave de ordenación según el nombre de la tabla\n",
    "        if tabla_nombre == 'Tabla1':\n",
    "            sort_key = 'Apellido'\n",
    "        elif tabla_nombre == 'Tabla2':\n",
    "            sort_key = 'Formacion'\n",
    "        else:\n",
    "            sort_key = 'Profesion'\n",
    "\n",
    "        # Ejecutar la operación de eliminación\n",
    "        response = tabla.delete_item(\n",
    "            Key={\n",
    "                'Nombre': nombre_usuario,  # Clave de partición\n",
    "                sort_key: clave_ordenacion  # Clave de ordenación\n",
    "            }\n",
    "        )\n",
    "        \n",
    "        # Mostrar los resultados de la eliminación\n",
    "        print(f\"Registro eliminado en {tabla_nombre}: {response}\")\n",
    "    except Exception as e:\n",
    "        print(f\"Error al eliminar en {tabla_nombre}: {e}\")\n",
    "\n",
    "# Eliminar los registros en las tablas\n",
    "if __name__ == \"__main__\":\n",
    "    # Eliminar los registros\n",
    "    eliminar_registro('Tabla1', 'Juan', 'Perez')  # Eliminar registro de Juan en Tabla1\n",
    "    eliminar_registro('Tabla2', 'Ana', 'Ingenieria')  # Eliminar registro de Ana en Tabla2\n",
    "    eliminar_registro('Tabla3', 'Luis', 'Medico')  # Eliminar registro de Luis en Tabla3"
   ]
  },
  {
   "cell_type": "markdown",
   "metadata": {},
   "source": [
    "#### 6 - Obtener todos los registros de cada tabla"
   ]
  },
  {
   "cell_type": "code",
   "execution_count": 29,
   "metadata": {},
   "outputs": [
    {
     "name": "stdout",
     "output_type": "stream",
     "text": [
      "Tabla: Tabla1, Registros: [{'Nombre': {'S': 'Carlos'}, 'Edad': {'N': '22'}, 'Apellido': {'S': 'Gomez'}}]\n",
      "Tabla: Tabla2, Registros: [{'Nombre': {'S': 'Pedro'}, 'Edad': {'N': '37'}, 'Formacion': {'S': 'Farmaceutico'}}]\n",
      "Tabla: Tabla3, Registros: [{'Nombre': {'S': 'Marcos'}, 'Edad': {'N': '57'}, 'Profesion': {'S': 'Abogado'}}]\n"
     ]
    }
   ],
   "source": [
    "def obtener_todos_los_registros():\n",
    "    \"\"\"\n",
    "    Lista todas las tablas disponibles\n",
    "    y recupera todos los registros de cada tabla.\n",
    "\n",
    "    Retorna:\n",
    "        - Un diccionario donde las claves son los nombres de las tablas \n",
    "          y los valores son listas de registros.\n",
    "    \"\"\"\n",
    "    # Obtener lista de tablas\n",
    "    response = dynamodb_client.list_tables()\n",
    "    tablas = response.get('TableNames', [])\n",
    "\n",
    "    resultados = {}\n",
    "\n",
    "    for tabla in tablas:\n",
    "        # Obtener todos los registros de la tabla\n",
    "        response = dynamodb_client.scan(TableName=tabla)\n",
    "        items = response.get('Items', [])\n",
    "        resultados[tabla] = items\n",
    "\n",
    "    return resultados\n",
    "\n",
    "# Ejecutar la función y mostrar los resultados\n",
    "if __name__ == \"__main__\":\n",
    "    todos_los_registros = obtener_todos_los_registros()\n",
    "    for tabla, registros in todos_los_registros.items():\n",
    "        print(f\"Tabla: {tabla}, Registros: {registros}\")"
   ]
  },
  {
   "cell_type": "markdown",
   "metadata": {},
   "source": [
    "#### 7 - Obtener un conjunto de registros de un filtrado de cada tabla"
   ]
  },
  {
   "cell_type": "code",
   "execution_count": 30,
   "metadata": {},
   "outputs": [
    {
     "name": "stdout",
     "output_type": "stream",
     "text": [
      "Tabla: Tabla1, Registros filtrados: []\n",
      "Tabla: Tabla2, Registros filtrados: [{'Nombre': {'S': 'Pedro'}, 'Edad': {'N': '37'}, 'Formacion': {'S': 'Farmaceutico'}}]\n",
      "Tabla: Tabla3, Registros filtrados: [{'Nombre': {'S': 'Marcos'}, 'Edad': {'N': '57'}, 'Profesion': {'S': 'Abogado'}}]\n"
     ]
    }
   ],
   "source": [
    "def obtener_registros_filtrados(filtro_expresion, valores_atributos):\n",
    "    \"\"\"\n",
    "    Parámetros:\n",
    "        - filtro_expresion: Una expresión de filtro para aplicar a la operación de escaneo.\n",
    "        - valores_atributos: Un diccionario de valores de atributos para la expresión de filtro.\n",
    "\n",
    "    Retorna:\n",
    "        - Un diccionario donde las claves son los nombres de las tablas \n",
    "          y los valores son listas de registros que cumplen con el filtro.\n",
    "    \"\"\"\n",
    "    # Obtener lista de tablas\n",
    "    response = dynamodb_client.list_tables()\n",
    "    tablas = response.get('TableNames', [])\n",
    "\n",
    "    resultados = {}\n",
    "\n",
    "    for tabla in tablas:\n",
    "        # Obtener registros filtrados de la tabla\n",
    "        response = dynamodb_client.scan(\n",
    "            TableName=tabla,\n",
    "            FilterExpression=filtro_expresion,\n",
    "            ExpressionAttributeValues=valores_atributos\n",
    "        )\n",
    "        items = response.get('Items', [])\n",
    "        resultados[tabla] = items\n",
    "\n",
    "    return resultados\n",
    "\n",
    "# Definir la expresión de filtro y los valores de atributos\n",
    "filtro_expresion = \"Edad > :edad\"\n",
    "valores_atributos = {\n",
    "    \":edad\": {\"N\": \"30\"}\n",
    "}\n",
    "\n",
    "# Ejecutar la función y mostrar los resultados\n",
    "if __name__ == \"__main__\":\n",
    "    registros_filtrados = obtener_registros_filtrados(filtro_expresion, valores_atributos)\n",
    "    for tabla, registros in registros_filtrados.items():\n",
    "        print(f\"Tabla: {tabla}, Registros filtrados: {registros}\")"
   ]
  },
  {
   "cell_type": "markdown",
   "metadata": {},
   "source": [
    "#### 8 - Realizar una eliminación condicional de cada tabla"
   ]
  },
  {
   "cell_type": "code",
   "execution_count": 23,
   "metadata": {},
   "outputs": [
    {
     "name": "stdout",
     "output_type": "stream",
     "text": [
      "Registro eliminado condicionalmente en Tabla2: {'ResponseMetadata': {'RequestId': 'HHU4M01BEEHR57QL3JD7AR8O0RVV4KQNSO5AEMVJF66Q9ASUAAJG', 'HTTPStatusCode': 200, 'HTTPHeaders': {'server': 'Server', 'date': 'Sat, 01 Feb 2025 12:27:53 GMT', 'content-type': 'application/x-amz-json-1.0', 'content-length': '2', 'connection': 'keep-alive', 'x-amzn-requestid': 'HHU4M01BEEHR57QL3JD7AR8O0RVV4KQNSO5AEMVJF66Q9ASUAAJG', 'x-amz-crc32': '2745614147'}, 'RetryAttempts': 0}}\n",
      "Registro eliminado condicionalmente en Tabla3: {'ResponseMetadata': {'RequestId': 'OAFT2URTN3E1EPAM81NPK9QEDJVV4KQNSO5AEMVJF66Q9ASUAAJG', 'HTTPStatusCode': 200, 'HTTPHeaders': {'server': 'Server', 'date': 'Sat, 01 Feb 2025 12:27:53 GMT', 'content-type': 'application/x-amz-json-1.0', 'content-length': '2', 'connection': 'keep-alive', 'x-amzn-requestid': 'OAFT2URTN3E1EPAM81NPK9QEDJVV4KQNSO5AEMVJF66Q9ASUAAJG', 'x-amz-crc32': '2745614147'}, 'RetryAttempts': 0}}\n"
     ]
    }
   ],
   "source": [
    "def eliminar_registro_condicional(tabla_nombre, nombre_usuario, clave_ordenacion, condicion_expresion, valores_atributos):\n",
    "    try:\n",
    "        # Obtener la referencia de la tabla\n",
    "        tabla = dynamodb.Table(tabla_nombre)\n",
    "\n",
    "        # Determinar la clave de ordenación según el nombre de la tabla\n",
    "        if tabla_nombre == 'Tabla1':\n",
    "            sort_key = 'Apellido'\n",
    "        elif tabla_nombre == 'Tabla2':\n",
    "            sort_key = 'Formacion'\n",
    "        else:\n",
    "            sort_key = 'Profesion'\n",
    "\n",
    "        # Ejecutar la operación de eliminación condicional\n",
    "        response = tabla.delete_item(\n",
    "            Key={\n",
    "                'Nombre': nombre_usuario,  # Clave de partición\n",
    "                sort_key: clave_ordenacion  # Clave de ordenación\n",
    "            },\n",
    "            ConditionExpression=condicion_expresion,\n",
    "            ExpressionAttributeValues=valores_atributos\n",
    "        )\n",
    "        \n",
    "        # Mostrar los resultados de la eliminación\n",
    "        print(f\"Registro eliminado condicionalmente en {tabla_nombre}: {response}\")\n",
    "    except Exception as e:\n",
    "        print(f\"Error al eliminar condicionalmente en {tabla_nombre}: {e}\")\n",
    "\n",
    "# Definir la expresión de condición y los valores de atributos\n",
    "condicion_expresion = \"Edad > :edad\"\n",
    "valores_atributos = {\n",
    "    \":edad\": 30\n",
    "}\n",
    "\n",
    "# Eliminar los registros condicionalmente en las tablas\n",
    "if __name__ == \"__main__\":\n",
    "    eliminar_registro_condicional('Tabla2', 'Pedro', 'Farmaceutico', condicion_expresion, valores_atributos)  # Eliminar condicionalmente en Tabla2\n",
    "    eliminar_registro_condicional('Tabla3', 'Marcos', 'Abogado', condicion_expresion, valores_atributos)  # Eliminar condicionalmente en Tabla3"
   ]
  },
  {
   "cell_type": "markdown",
   "metadata": {},
   "source": [
    "#### 9 - Obtener un conjunto de datos a través de varios filtros aplicado en cada tabla"
   ]
  },
  {
   "cell_type": "code",
   "execution_count": 25,
   "metadata": {},
   "outputs": [
    {
     "name": "stdout",
     "output_type": "stream",
     "text": [
      "Tabla: Tabla1, Registros filtrados: [{'Nombre': {'S': 'Carlos'}, 'Edad': {'N': '22'}, 'Apellido': {'S': 'Gomez'}}]\n",
      "Tabla: Tabla2, Registros filtrados: []\n",
      "Tabla: Tabla3, Registros filtrados: []\n"
     ]
    }
   ],
   "source": [
    "def obtener_registros_con_varios_filtros(filtros_expresiones, valores_atributos):\n",
    "    \"\"\"\n",
    "    Parámetros:\n",
    "        - filtros_expresiones: Una lista de expresiones de filtro para aplicar a la operación de escaneo.\n",
    "        - valores_atributos: Un diccionario de valores de atributos para las expresiones de filtro.\n",
    "\n",
    "    Retorna:\n",
    "        - Un diccionario donde las claves son los nombres de las tablas \n",
    "          y los valores son listas de registros que cumplen con los filtros.\n",
    "    \"\"\"\n",
    "    # Obtener lista de tablas\n",
    "    response = dynamodb_client.list_tables()\n",
    "    tablas = response.get('TableNames', [])\n",
    "\n",
    "    # Diccionario para almacenar los resultados de cada tabla\n",
    "    resultados = {}\n",
    "\n",
    "    for tabla in tablas:\n",
    "        # Combinar las expresiones de filtro con 'AND'\n",
    "        filtro_combinado = ' AND '.join(filtros_expresiones)\n",
    "\n",
    "        # Realizar la operación scan en la tabla actual, aplicando el filtro combinado\n",
    "        response = dynamodb_client.scan(\n",
    "            TableName=tabla,\n",
    "            FilterExpression=filtro_combinado,\n",
    "            ExpressionAttributeValues=valores_atributos\n",
    "        )\n",
    "        # Obtener la lista de items (registros) que cumplen con los filtros\n",
    "        items = response.get('Items', [])\n",
    "        resultados[tabla] = items\n",
    "\n",
    "    return resultados\n",
    "\n",
    "# Definir las expresiones de filtro y los valores de atributos\n",
    "filtros_expresiones = [\"Edad > :edad\", \"Apellido = :Apellido\"]\n",
    "valores_atributos = {\n",
    "    \":edad\": {\"N\": \"20\"},\n",
    "    \":Apellido\": {\"S\": \"Gomez\"}\n",
    "}\n",
    "\n",
    "# Ejecutar la función y mostrar los resultados\n",
    "if __name__ == \"__main__\":\n",
    "    registros_filtrados_varios = obtener_registros_con_varios_filtros(filtros_expresiones, valores_atributos)\n",
    "    for tabla, registros in registros_filtrados_varios.items():\n",
    "        print(f\"Tabla: {tabla}, Registros filtrados: {registros}\")"
   ]
  },
  {
   "cell_type": "markdown",
   "metadata": {},
   "source": [
    "#### 10 - Utilizar PartiQL statement en cada tabla\n"
   ]
  },
  {
   "cell_type": "code",
   "execution_count": 32,
   "metadata": {},
   "outputs": [
    {
     "name": "stdout",
     "output_type": "stream",
     "text": [
      "Tabla: Tabla1, Registros: [{'Nombre': {'S': 'Carlos'}, 'Edad': {'N': '22'}, 'Apellido': {'S': 'Gomez'}}]\n",
      "Tabla: Tabla2, Registros: []\n",
      "Tabla: Tabla3, Registros: []\n"
     ]
    }
   ],
   "source": [
    "def ejecutar_partiql_en_tablas():\n",
    "    \"\"\"\n",
    "    Ejecuta una declaración PartiQL en cada tabla para seleccionar todos los elementos.\n",
    "\n",
    "    Retorna:\n",
    "        - Un diccionario donde las claves son los nombres de las tablas \n",
    "          y los valores son listas de registros obtenidos.\n",
    "    \"\"\"\n",
    "    # Obtener lista de tablas\n",
    "    response = dynamodb_client.list_tables()\n",
    "    tablas = response.get('TableNames', [])\n",
    "\n",
    "    resultados = {}\n",
    "\n",
    "    for tabla in tablas:\n",
    "        # Para cada tabla, construimos una consulta PartiQL que selecciona todos los registros.\n",
    "        # La consulta resultante tendrá el formato: SELECT * FROM \"NombreDeLaTabla\"\n",
    "        statement = f\"SELECT * FROM \\\"{tabla}\\\"\"\n",
    "        response = dynamodb_client.execute_statement(Statement=statement)\n",
    "        items = response.get('Items', [])\n",
    "        resultados[tabla] = items\n",
    "\n",
    "    return resultados\n",
    "\n",
    "# Ejecutar la función y mostrar los resultados\n",
    "if __name__ == \"__main__\":\n",
    "    registros_partiql = ejecutar_partiql_en_tablas()\n",
    "    for tabla, registros in registros_partiql.items():\n",
    "        print(f\"Tabla: {tabla}, Registros: {registros}\")"
   ]
  },
  {
   "cell_type": "markdown",
   "metadata": {},
   "source": [
    "#### 11 - Crear un backup de todas las tablas"
   ]
  },
  {
   "cell_type": "code",
   "execution_count": 35,
   "metadata": {},
   "outputs": [
    {
     "name": "stdout",
     "output_type": "stream",
     "text": [
      "Backup creado para la tabla Tabla1: arn:aws:dynamodb:us-east-1:959174264772:table/Tabla1/backup/01738413370523-517c8115\n",
      "Backup creado para la tabla Tabla2: arn:aws:dynamodb:us-east-1:959174264772:table/Tabla2/backup/01738413370710-c1e152bc\n",
      "Backup creado para la tabla Tabla3: arn:aws:dynamodb:us-east-1:959174264772:table/Tabla3/backup/01738413370878-4db403d6\n",
      "Tabla: Tabla1, Backup ARN: arn:aws:dynamodb:us-east-1:959174264772:table/Tabla1/backup/01738413370523-517c8115\n",
      "Tabla: Tabla2, Backup ARN: arn:aws:dynamodb:us-east-1:959174264772:table/Tabla2/backup/01738413370710-c1e152bc\n",
      "Tabla: Tabla3, Backup ARN: arn:aws:dynamodb:us-east-1:959174264772:table/Tabla3/backup/01738413370878-4db403d6\n"
     ]
    }
   ],
   "source": [
    "def crear_backup_de_todas_las_tablas():\n",
    "    \"\"\"\n",
    "    Crea un backup de todas las tablas disponibles en DynamoDB.\n",
    "\n",
    "    Retorna:\n",
    "        - Un diccionario donde las claves son los nombres de las tablas \n",
    "          y los valores son los ARNs de los backups creados.\n",
    "    \"\"\"\n",
    "    # Obtener lista de tablas\n",
    "    response = dynamodb_client.list_tables()\n",
    "    tablas = response.get('TableNames', [])\n",
    "\n",
    "    backups = {}\n",
    "\n",
    "    for tabla in tablas:\n",
    "        try:\n",
    "            # Crear un backup para la tabla actual\n",
    "            response = dynamodb_client.create_backup(\n",
    "                TableName=tabla,\n",
    "                BackupName=f\"{tabla}_backup\"\n",
    "            )\n",
    "            backups[tabla] = response['BackupDetails']['BackupArn']\n",
    "            print(f\"Backup creado para la tabla {tabla}: {response['BackupDetails']['BackupArn']}\")\n",
    "        except Exception as e:\n",
    "            print(f\"Error al crear backup para la tabla {tabla}: {e}\")\n",
    "\n",
    "    return backups\n",
    "\n",
    "# Ejecutar la función y mostrar los resultados\n",
    "if __name__ == \"__main__\":\n",
    "    backups_creados = crear_backup_de_todas_las_tablas()\n",
    "    for tabla, backup_arn in backups_creados.items():\n",
    "        print(f\"Tabla: {tabla}, Backup ARN: {backup_arn}\")"
   ]
  }
 ],
 "metadata": {
  "kernelspec": {
   "display_name": ".venv",
   "language": "python",
   "name": "python3"
  },
  "language_info": {
   "codemirror_mode": {
    "name": "ipython",
    "version": 3
   },
   "file_extension": ".py",
   "mimetype": "text/x-python",
   "name": "python",
   "nbconvert_exporter": "python",
   "pygments_lexer": "ipython3",
   "version": "3.12.3"
  }
 },
 "nbformat": 4,
 "nbformat_minor": 2
}
